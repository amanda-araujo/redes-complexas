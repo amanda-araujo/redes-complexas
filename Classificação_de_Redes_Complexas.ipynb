{
  "nbformat": 4,
  "nbformat_minor": 0,
  "metadata": {
    "colab": {
      "provenance": []
    },
    "kernelspec": {
      "name": "python3",
      "display_name": "Python 3"
    },
    "language_info": {
      "name": "python"
    }
  },
  "cells": [
    {
      "cell_type": "markdown",
      "source": [
        "# Classificação de Redes Complexas"
      ],
      "metadata": {
        "id": "bWY3mHb4wGOe"
      }
    },
    {
      "cell_type": "markdown",
      "source": [
        "Amanda Araujo Silva - nº USP: 10260441\n",
        "\n",
        "Disciplina: Processos Dinâmicos em Redes Complexas (ICMC-USP)\n",
        "\n",
        "Prof. Francisco A. Rodrigues"
      ],
      "metadata": {
        "id": "Z7hR0EFxH14U"
      }
    },
    {
      "cell_type": "markdown",
      "source": [
        "## Descrição do trabalho"
      ],
      "metadata": {
        "id": "nbox5Fd02Ehj"
      }
    },
    {
      "cell_type": "markdown",
      "source": [
        "Selecione 3 redes biológicas, 3 redes sociais e 3 redes tecnológicas desses endereços:\n",
        "\n",
        "* https://networks.skewed.de\n",
        "* http://konect.cc/networks/\n",
        "* https://icon.colorado.edu/\n",
        "\n",
        "\n",
        "Faça a classificação das redes usando os modelos e medidas que aprendemos na aula.\n",
        "Não se esqueça de selecionar o mesmo N e grau médio que a rede original na construção\n",
        "dos modelos.\n",
        "Verifique qual o modelo mais adequado para cada rede.\n",
        "\n",
        "> **Hipótese: redes do mesmo tipo seguem o mesmo modelo.**\n",
        "\n",
        "Verifique se essa hipótese é verdadeira."
      ],
      "metadata": {
        "id": "AQiFqNKsv4v_"
      }
    },
    {
      "cell_type": "markdown",
      "source": [
        "## Bibliotecas e arquivos"
      ],
      "metadata": {
        "id": "JSwr51hZ2HqV"
      }
    },
    {
      "cell_type": "code",
      "source": [
        "# Bibliotecas:\n",
        "import numpy as np\n",
        "import matplotlib.pyplot as plt\n",
        "import networkx as nx\n",
        "from scipy.stats import pearsonr\n",
        "from sklearn.neighbors import KNeighborsClassifier\n",
        "from sklearn.preprocessing import StandardScaler"
      ],
      "metadata": {
        "id": "ZP-ZE7LD14PT"
      },
      "execution_count": 15,
      "outputs": []
    },
    {
      "cell_type": "markdown",
      "source": [
        "### Graph-tool library"
      ],
      "metadata": {
        "id": "3ba3omI4aMrw"
      }
    },
    {
      "cell_type": "code",
      "source": [
        "!wget https://downloads.skewed.de/skewed-keyring/skewed-keyring_1.0_all_$(lsb_release -s -c).deb\n",
        "!dpkg -i skewed-keyring_1.0_all_$(lsb_release -s -c).deb\n",
        "!echo \"deb [signed-by=/usr/share/keyrings/skewed-keyring.gpg] https://downloads.skewed.de/apt $(lsb_release -s -c) main\" > /etc/apt/sources.list.d/skewed.list\n",
        "!apt-get update\n",
        "!apt-get install python3-graph-tool python3-matplotlib python3-cairo"
      ],
      "metadata": {
        "id": "ccAj89hUOqoU",
        "colab": {
          "base_uri": "https://localhost:8080/"
        },
        "outputId": "a1217586-dfd9-4035-dcf1-a93ba6c94dce"
      },
      "execution_count": 2,
      "outputs": [
        {
          "output_type": "stream",
          "name": "stdout",
          "text": [
            "--2024-07-01 15:02:03--  https://downloads.skewed.de/skewed-keyring/skewed-keyring_1.0_all_jammy.deb\n",
            "Resolving downloads.skewed.de (downloads.skewed.de)... 49.12.93.194\n",
            "Connecting to downloads.skewed.de (downloads.skewed.de)|49.12.93.194|:443... connected.\n",
            "HTTP request sent, awaiting response... 200 OK\n",
            "Length: 23192 (23K) [application/x-debian-package]\n",
            "Saving to: ‘skewed-keyring_1.0_all_jammy.deb’\n",
            "\n",
            "skewed-keyring_1.0_ 100%[===================>]  22.65K  --.-KB/s    in 0.1s    \n",
            "\n",
            "2024-07-01 15:02:04 (220 KB/s) - ‘skewed-keyring_1.0_all_jammy.deb’ saved [23192/23192]\n",
            "\n",
            "Selecting previously unselected package skewed-keyring.\n",
            "(Reading database ... 121925 files and directories currently installed.)\n",
            "Preparing to unpack skewed-keyring_1.0_all_jammy.deb ...\n",
            "Unpacking skewed-keyring (1.0) ...\n",
            "Setting up skewed-keyring (1.0) ...\n",
            "Get:1 http://security.ubuntu.com/ubuntu jammy-security InRelease [129 kB]\n",
            "Get:2 https://cloud.r-project.org/bin/linux/ubuntu jammy-cran40/ InRelease [3,626 B]\n",
            "Hit:3 https://developer.download.nvidia.com/compute/cuda/repos/ubuntu2204/x86_64  InRelease\n",
            "Hit:4 http://archive.ubuntu.com/ubuntu jammy InRelease\n",
            "Get:5 http://archive.ubuntu.com/ubuntu jammy-updates InRelease [128 kB]\n",
            "Hit:6 https://ppa.launchpadcontent.net/c2d4u.team/c2d4u4.0+/ubuntu jammy InRelease\n",
            "Get:7 https://downloads.skewed.de/apt jammy InRelease [7,536 B]\n",
            "Hit:8 https://ppa.launchpadcontent.net/deadsnakes/ppa/ubuntu jammy InRelease\n",
            "Hit:9 https://ppa.launchpadcontent.net/graphics-drivers/ppa/ubuntu jammy InRelease\n",
            "Hit:10 https://ppa.launchpadcontent.net/ubuntugis/ppa/ubuntu jammy InRelease\n",
            "Get:11 http://archive.ubuntu.com/ubuntu jammy-backports InRelease [127 kB]\n",
            "Get:12 http://security.ubuntu.com/ubuntu jammy-security/restricted amd64 Packages [2,566 kB]\n",
            "Get:13 http://security.ubuntu.com/ubuntu jammy-security/universe amd64 Packages [1,116 kB]\n",
            "Get:14 http://security.ubuntu.com/ubuntu jammy-security/main amd64 Packages [1,978 kB]\n",
            "Get:15 https://downloads.skewed.de/apt jammy/main amd64 Packages [4,949 B]\n",
            "Get:16 http://archive.ubuntu.com/ubuntu jammy-updates/main amd64 Packages [2,253 kB]\n",
            "Get:17 http://archive.ubuntu.com/ubuntu jammy-updates/restricted amd64 Packages [2,654 kB]\n",
            "Get:18 http://archive.ubuntu.com/ubuntu jammy-updates/universe amd64 Packages [1,400 kB]\n",
            "Get:19 http://archive.ubuntu.com/ubuntu jammy-backports/universe amd64 Packages [32.2 kB]\n",
            "Fetched 12.4 MB in 6s (2,004 kB/s)\n",
            "Reading package lists... Done\n",
            "Reading package lists... Done\n",
            "Building dependency tree... Done\n",
            "Reading state information... Done\n",
            "The following additional packages will be installed:\n",
            "  fonts-dejavu-core fonts-lyx gir1.2-atk-1.0 gir1.2-freedesktop gir1.2-gdkpixbuf-2.0 gir1.2-gtk-3.0\n",
            "  gir1.2-harfbuzz-0.0 gir1.2-pango-1.0 libcairomm-1.0-1v5 libimagequant0 liblbfgsb0\n",
            "  libpangoxft-1.0-0 libraqm0 libsigc++-2.0-0v5 libxsimd-dev python-matplotlib-data python3-appdirs\n",
            "  python3-attr python3-beniget python3-brotli python3-bs4 python3-chardet python3-cycler\n",
            "  python3-dateutil python3-decorator python3-fonttools python3-fs python3-gast python3-html5lib\n",
            "  python3-kiwisolver python3-lxml python3-lz4 python3-mpmath python3-numpy python3-olefile\n",
            "  python3-packaging python3-pil python3-pil.imagetk python3-ply python3-pythran python3-scipy\n",
            "  python3-soupsieve python3-sympy python3-tz python3-ufolib2 python3-unicodedata2\n",
            "  python3-webencodings unicode-data\n",
            "Suggested packages:\n",
            "  libxsimd-doc python-attr-doc python-cycler-doc python3-genshi python-lxml-doc dvipng\n",
            "  fonts-staypuft ghostscript inkscape ipython3 librsvg2-common python-matplotlib-doc\n",
            "  python3-cairocffi python3-gi-cairo python3-gobject python3-pyqt5 python3-sip python3-tornado\n",
            "  texlive-extra-utils texlive-latex-extra python-mpmath-doc python3-gmpy2 python-numpy-doc\n",
            "  python3-pytest python-pil-doc python-ply-doc python-scipy-doc texlive-fonts-extra\n",
            "  python-sympy-doc\n",
            "Recommended packages:\n",
            "  libgv-python python-matplotlib python-cairo python-gi-cairo python-gi\n",
            "The following NEW packages will be installed:\n",
            "  fonts-dejavu-core fonts-lyx gir1.2-atk-1.0 gir1.2-freedesktop gir1.2-gdkpixbuf-2.0 gir1.2-gtk-3.0\n",
            "  gir1.2-harfbuzz-0.0 gir1.2-pango-1.0 libcairomm-1.0-1v5 libimagequant0 liblbfgsb0\n",
            "  libpangoxft-1.0-0 libraqm0 libsigc++-2.0-0v5 libxsimd-dev python-matplotlib-data python3-appdirs\n",
            "  python3-attr python3-beniget python3-brotli python3-bs4 python3-cairo python3-chardet\n",
            "  python3-cycler python3-dateutil python3-decorator python3-fonttools python3-fs python3-gast\n",
            "  python3-graph-tool python3-html5lib python3-kiwisolver python3-lxml python3-lz4\n",
            "  python3-matplotlib python3-mpmath python3-numpy python3-olefile python3-packaging python3-pil\n",
            "  python3-pil.imagetk python3-ply python3-pythran python3-scipy python3-soupsieve python3-sympy\n",
            "  python3-tz python3-ufolib2 python3-unicodedata2 python3-webencodings unicode-data\n",
            "0 upgraded, 51 newly installed, 0 to remove and 48 not upgraded.\n",
            "Need to get 97.2 MB of archives.\n",
            "After this operation, 546 MB of additional disk space will be used.\n",
            "Get:1 http://archive.ubuntu.com/ubuntu jammy/main amd64 fonts-dejavu-core all 2.37-2build1 [1,041 kB]\n",
            "Get:2 https://downloads.skewed.de/apt jammy/main amd64 python3-graph-tool amd64 2.71 [50.9 MB]\n",
            "Get:3 http://archive.ubuntu.com/ubuntu jammy/universe amd64 fonts-lyx all 2.3.6-1 [159 kB]\n",
            "Get:4 http://archive.ubuntu.com/ubuntu jammy/main amd64 gir1.2-atk-1.0 amd64 2.36.0-3build1 [21.0 kB]\n",
            "Get:5 http://archive.ubuntu.com/ubuntu jammy/main amd64 gir1.2-freedesktop amd64 1.72.0-1 [22.3 kB]\n",
            "Get:6 http://archive.ubuntu.com/ubuntu jammy-updates/main amd64 gir1.2-gdkpixbuf-2.0 amd64 2.42.8+dfsg-1ubuntu0.3 [9,486 B]\n",
            "Get:7 http://archive.ubuntu.com/ubuntu jammy-updates/main amd64 gir1.2-harfbuzz-0.0 amd64 2.7.4-1ubuntu3.1 [31.6 kB]\n",
            "Get:8 http://archive.ubuntu.com/ubuntu jammy-updates/main amd64 libpangoxft-1.0-0 amd64 1.50.6+ds-2ubuntu1 [31.0 kB]\n",
            "Get:9 http://archive.ubuntu.com/ubuntu jammy-updates/main amd64 gir1.2-pango-1.0 amd64 1.50.6+ds-2ubuntu1 [44.0 kB]\n",
            "Get:10 http://archive.ubuntu.com/ubuntu jammy-updates/main amd64 gir1.2-gtk-3.0 amd64 3.24.33-1ubuntu2.1 [240 kB]\n",
            "Get:11 http://archive.ubuntu.com/ubuntu jammy/main amd64 libsigc++-2.0-0v5 amd64 2.10.4-2ubuntu3 [12.1 kB]\n",
            "Get:12 http://archive.ubuntu.com/ubuntu jammy/main amd64 libcairomm-1.0-1v5 amd64 1.12.2-4build3 [45.1 kB]\n",
            "Get:13 http://archive.ubuntu.com/ubuntu jammy/main amd64 libimagequant0 amd64 2.17.0-1 [34.6 kB]\n",
            "Get:14 http://archive.ubuntu.com/ubuntu jammy/universe amd64 liblbfgsb0 amd64 3.0+dfsg.3-10 [29.9 kB]\n",
            "Get:15 http://archive.ubuntu.com/ubuntu jammy/main amd64 libraqm0 amd64 0.7.0-4ubuntu1 [11.7 kB]\n",
            "Get:16 http://archive.ubuntu.com/ubuntu jammy/universe amd64 libxsimd-dev amd64 7.6.0-2 [108 kB]\n",
            "Get:17 http://archive.ubuntu.com/ubuntu jammy/universe amd64 python-matplotlib-data all 3.5.1-2build1 [2,942 kB]\n",
            "Get:18 http://archive.ubuntu.com/ubuntu jammy/main amd64 python3-appdirs all 1.4.4-2 [11.4 kB]\n",
            "Get:19 http://archive.ubuntu.com/ubuntu jammy/main amd64 python3-attr all 21.2.0-1 [44.0 kB]\n",
            "Get:20 http://archive.ubuntu.com/ubuntu jammy/universe amd64 python3-gast all 0.5.2-2 [9,394 B]\n",
            "Get:21 http://archive.ubuntu.com/ubuntu jammy/universe amd64 python3-beniget all 0.4.1-2 [9,904 B]\n",
            "Get:22 http://archive.ubuntu.com/ubuntu jammy/universe amd64 python3-brotli amd64 1.0.9-2build6 [319 kB]\n",
            "Get:23 http://archive.ubuntu.com/ubuntu jammy/main amd64 python3-soupsieve all 2.3.1-1 [33.0 kB]\n",
            "Get:24 http://archive.ubuntu.com/ubuntu jammy/main amd64 python3-bs4 all 4.10.0-2 [79.1 kB]\n",
            "Get:25 http://archive.ubuntu.com/ubuntu jammy/main amd64 python3-cairo amd64 1.20.1-3build1 [73.7 kB]\n",
            "Get:26 http://archive.ubuntu.com/ubuntu jammy/main amd64 python3-chardet all 4.0.0-1 [98.0 kB]\n",
            "Get:27 http://archive.ubuntu.com/ubuntu jammy/universe amd64 python3-cycler all 0.11.0-1 [8,156 B]\n",
            "Get:28 http://archive.ubuntu.com/ubuntu jammy/main amd64 python3-dateutil all 2.8.1-6 [78.4 kB]\n",
            "Get:29 http://archive.ubuntu.com/ubuntu jammy/main amd64 python3-decorator all 4.4.2-0ubuntu1 [10.3 kB]\n",
            "Get:30 http://archive.ubuntu.com/ubuntu jammy-updates/main amd64 python3-numpy amd64 1:1.21.5-1ubuntu22.04.1 [3,467 kB]\n",
            "Get:31 http://archive.ubuntu.com/ubuntu jammy/main amd64 python3-ply all 3.11-5 [47.5 kB]\n",
            "Get:32 http://archive.ubuntu.com/ubuntu jammy/universe amd64 python3-pythran amd64 0.10.0+ds2-1 [423 kB]\n",
            "Get:33 http://archive.ubuntu.com/ubuntu jammy/universe amd64 python3-scipy amd64 1.8.0-1exp2ubuntu1 [14.7 MB]\n",
            "Get:34 http://archive.ubuntu.com/ubuntu jammy/universe amd64 python3-ufolib2 all 0.13.1+dfsg1-1 [32.2 kB]\n",
            "Get:35 http://archive.ubuntu.com/ubuntu jammy/universe amd64 python3-mpmath all 1.2.1-2 [419 kB]\n",
            "Get:36 http://archive.ubuntu.com/ubuntu jammy/universe amd64 python3-sympy all 1.9-1 [4,312 kB]\n",
            "Get:37 http://archive.ubuntu.com/ubuntu jammy-updates/main amd64 python3-tz all 2022.1-1ubuntu0.22.04.1 [30.7 kB]\n",
            "Get:38 http://archive.ubuntu.com/ubuntu jammy/universe amd64 python3-fs all 2.4.12-1 [84.9 kB]\n",
            "Get:39 http://archive.ubuntu.com/ubuntu jammy/main amd64 python3-lxml amd64 4.8.0-1build1 [1,150 kB]\n",
            "Get:40 http://archive.ubuntu.com/ubuntu jammy/universe amd64 python3-lz4 amd64 3.1.3+dfsg-1build3 [33.3 kB]\n",
            "Get:41 http://archive.ubuntu.com/ubuntu jammy/universe amd64 python3-unicodedata2 amd64 14.0.0+ds-8 [376 kB]\n",
            "Get:42 http://archive.ubuntu.com/ubuntu jammy/universe amd64 unicode-data all 14.0.0-1.1 [8,206 kB]\n",
            "Get:43 http://archive.ubuntu.com/ubuntu jammy/universe amd64 python3-fonttools amd64 4.29.1-2build1 [810 kB]\n",
            "Get:44 http://archive.ubuntu.com/ubuntu jammy/main amd64 python3-webencodings all 0.5.1-4 [11.8 kB]\n",
            "Get:45 http://archive.ubuntu.com/ubuntu jammy/main amd64 python3-html5lib all 1.1-3 [87.0 kB]\n",
            "Get:46 http://archive.ubuntu.com/ubuntu jammy/universe amd64 python3-kiwisolver amd64 1.3.2-1build1 [48.0 kB]\n",
            "Get:47 http://archive.ubuntu.com/ubuntu jammy-updates/main amd64 python3-pil amd64 9.0.1-1ubuntu0.3 [419 kB]\n",
            "Get:48 http://archive.ubuntu.com/ubuntu jammy-updates/universe amd64 python3-pil.imagetk amd64 9.0.1-1ubuntu0.3 [9,616 B]\n",
            "Get:49 http://archive.ubuntu.com/ubuntu jammy/main amd64 python3-packaging all 21.3-1 [30.7 kB]\n",
            "Get:50 http://archive.ubuntu.com/ubuntu jammy/universe amd64 python3-matplotlib amd64 3.5.1-2build1 [5,937 kB]\n",
            "Get:51 http://archive.ubuntu.com/ubuntu jammy/main amd64 python3-olefile all 0.46-3 [33.8 kB]\n",
            "Fetched 97.2 MB in 3s (28.3 MB/s)\n",
            "Extracting templates from packages: 100%\n",
            "Selecting previously unselected package fonts-dejavu-core.\n",
            "(Reading database ... 121930 files and directories currently installed.)\n",
            "Preparing to unpack .../00-fonts-dejavu-core_2.37-2build1_all.deb ...\n",
            "Unpacking fonts-dejavu-core (2.37-2build1) ...\n",
            "Selecting previously unselected package fonts-lyx.\n",
            "Preparing to unpack .../01-fonts-lyx_2.3.6-1_all.deb ...\n",
            "Unpacking fonts-lyx (2.3.6-1) ...\n",
            "Selecting previously unselected package gir1.2-atk-1.0:amd64.\n",
            "Preparing to unpack .../02-gir1.2-atk-1.0_2.36.0-3build1_amd64.deb ...\n",
            "Unpacking gir1.2-atk-1.0:amd64 (2.36.0-3build1) ...\n",
            "Selecting previously unselected package gir1.2-freedesktop:amd64.\n",
            "Preparing to unpack .../03-gir1.2-freedesktop_1.72.0-1_amd64.deb ...\n",
            "Unpacking gir1.2-freedesktop:amd64 (1.72.0-1) ...\n",
            "Selecting previously unselected package gir1.2-gdkpixbuf-2.0:amd64.\n",
            "Preparing to unpack .../04-gir1.2-gdkpixbuf-2.0_2.42.8+dfsg-1ubuntu0.3_amd64.deb ...\n",
            "Unpacking gir1.2-gdkpixbuf-2.0:amd64 (2.42.8+dfsg-1ubuntu0.3) ...\n",
            "Selecting previously unselected package gir1.2-harfbuzz-0.0:amd64.\n",
            "Preparing to unpack .../05-gir1.2-harfbuzz-0.0_2.7.4-1ubuntu3.1_amd64.deb ...\n",
            "Unpacking gir1.2-harfbuzz-0.0:amd64 (2.7.4-1ubuntu3.1) ...\n",
            "Selecting previously unselected package libpangoxft-1.0-0:amd64.\n",
            "Preparing to unpack .../06-libpangoxft-1.0-0_1.50.6+ds-2ubuntu1_amd64.deb ...\n",
            "Unpacking libpangoxft-1.0-0:amd64 (1.50.6+ds-2ubuntu1) ...\n",
            "Selecting previously unselected package gir1.2-pango-1.0:amd64.\n",
            "Preparing to unpack .../07-gir1.2-pango-1.0_1.50.6+ds-2ubuntu1_amd64.deb ...\n",
            "Unpacking gir1.2-pango-1.0:amd64 (1.50.6+ds-2ubuntu1) ...\n",
            "Selecting previously unselected package gir1.2-gtk-3.0:amd64.\n",
            "Preparing to unpack .../08-gir1.2-gtk-3.0_3.24.33-1ubuntu2.1_amd64.deb ...\n",
            "Unpacking gir1.2-gtk-3.0:amd64 (3.24.33-1ubuntu2.1) ...\n",
            "Selecting previously unselected package libsigc++-2.0-0v5:amd64.\n",
            "Preparing to unpack .../09-libsigc++-2.0-0v5_2.10.4-2ubuntu3_amd64.deb ...\n",
            "Unpacking libsigc++-2.0-0v5:amd64 (2.10.4-2ubuntu3) ...\n",
            "Selecting previously unselected package libcairomm-1.0-1v5:amd64.\n",
            "Preparing to unpack .../10-libcairomm-1.0-1v5_1.12.2-4build3_amd64.deb ...\n",
            "Unpacking libcairomm-1.0-1v5:amd64 (1.12.2-4build3) ...\n",
            "Selecting previously unselected package libimagequant0:amd64.\n",
            "Preparing to unpack .../11-libimagequant0_2.17.0-1_amd64.deb ...\n",
            "Unpacking libimagequant0:amd64 (2.17.0-1) ...\n",
            "Selecting previously unselected package liblbfgsb0:amd64.\n",
            "Preparing to unpack .../12-liblbfgsb0_3.0+dfsg.3-10_amd64.deb ...\n",
            "Unpacking liblbfgsb0:amd64 (3.0+dfsg.3-10) ...\n",
            "Selecting previously unselected package libraqm0:amd64.\n",
            "Preparing to unpack .../13-libraqm0_0.7.0-4ubuntu1_amd64.deb ...\n",
            "Unpacking libraqm0:amd64 (0.7.0-4ubuntu1) ...\n",
            "Selecting previously unselected package libxsimd-dev:amd64.\n",
            "Preparing to unpack .../14-libxsimd-dev_7.6.0-2_amd64.deb ...\n",
            "Unpacking libxsimd-dev:amd64 (7.6.0-2) ...\n",
            "Selecting previously unselected package python-matplotlib-data.\n",
            "Preparing to unpack .../15-python-matplotlib-data_3.5.1-2build1_all.deb ...\n",
            "Unpacking python-matplotlib-data (3.5.1-2build1) ...\n",
            "Selecting previously unselected package python3-appdirs.\n",
            "Preparing to unpack .../16-python3-appdirs_1.4.4-2_all.deb ...\n",
            "Unpacking python3-appdirs (1.4.4-2) ...\n",
            "Selecting previously unselected package python3-attr.\n",
            "Preparing to unpack .../17-python3-attr_21.2.0-1_all.deb ...\n",
            "Unpacking python3-attr (21.2.0-1) ...\n",
            "Selecting previously unselected package python3-gast.\n",
            "Preparing to unpack .../18-python3-gast_0.5.2-2_all.deb ...\n",
            "Unpacking python3-gast (0.5.2-2) ...\n",
            "Selecting previously unselected package python3-beniget.\n",
            "Preparing to unpack .../19-python3-beniget_0.4.1-2_all.deb ...\n",
            "Unpacking python3-beniget (0.4.1-2) ...\n",
            "Selecting previously unselected package python3-brotli.\n",
            "Preparing to unpack .../20-python3-brotli_1.0.9-2build6_amd64.deb ...\n",
            "Unpacking python3-brotli (1.0.9-2build6) ...\n",
            "Selecting previously unselected package python3-soupsieve.\n",
            "Preparing to unpack .../21-python3-soupsieve_2.3.1-1_all.deb ...\n",
            "Unpacking python3-soupsieve (2.3.1-1) ...\n",
            "Selecting previously unselected package python3-bs4.\n",
            "Preparing to unpack .../22-python3-bs4_4.10.0-2_all.deb ...\n",
            "Unpacking python3-bs4 (4.10.0-2) ...\n",
            "Selecting previously unselected package python3-cairo:amd64.\n",
            "Preparing to unpack .../23-python3-cairo_1.20.1-3build1_amd64.deb ...\n",
            "Unpacking python3-cairo:amd64 (1.20.1-3build1) ...\n",
            "Selecting previously unselected package python3-chardet.\n",
            "Preparing to unpack .../24-python3-chardet_4.0.0-1_all.deb ...\n",
            "Unpacking python3-chardet (4.0.0-1) ...\n",
            "Selecting previously unselected package python3-cycler.\n",
            "Preparing to unpack .../25-python3-cycler_0.11.0-1_all.deb ...\n",
            "Unpacking python3-cycler (0.11.0-1) ...\n",
            "Selecting previously unselected package python3-dateutil.\n",
            "Preparing to unpack .../26-python3-dateutil_2.8.1-6_all.deb ...\n",
            "Unpacking python3-dateutil (2.8.1-6) ...\n",
            "Selecting previously unselected package python3-decorator.\n",
            "Preparing to unpack .../27-python3-decorator_4.4.2-0ubuntu1_all.deb ...\n",
            "Unpacking python3-decorator (4.4.2-0ubuntu1) ...\n",
            "Selecting previously unselected package python3-numpy.\n",
            "Preparing to unpack .../28-python3-numpy_1%3a1.21.5-1ubuntu22.04.1_amd64.deb ...\n",
            "Unpacking python3-numpy (1:1.21.5-1ubuntu22.04.1) ...\n",
            "Selecting previously unselected package python3-ply.\n",
            "Preparing to unpack .../29-python3-ply_3.11-5_all.deb ...\n",
            "Unpacking python3-ply (3.11-5) ...\n",
            "Selecting previously unselected package python3-pythran.\n",
            "Preparing to unpack .../30-python3-pythran_0.10.0+ds2-1_amd64.deb ...\n",
            "Unpacking python3-pythran (0.10.0+ds2-1) ...\n",
            "Selecting previously unselected package python3-scipy.\n",
            "Preparing to unpack .../31-python3-scipy_1.8.0-1exp2ubuntu1_amd64.deb ...\n",
            "Unpacking python3-scipy (1.8.0-1exp2ubuntu1) ...\n",
            "Selecting previously unselected package python3-ufolib2.\n",
            "Preparing to unpack .../32-python3-ufolib2_0.13.1+dfsg1-1_all.deb ...\n",
            "Unpacking python3-ufolib2 (0.13.1+dfsg1-1) ...\n",
            "Selecting previously unselected package python3-mpmath.\n",
            "Preparing to unpack .../33-python3-mpmath_1.2.1-2_all.deb ...\n",
            "Unpacking python3-mpmath (1.2.1-2) ...\n",
            "Selecting previously unselected package python3-sympy.\n",
            "Preparing to unpack .../34-python3-sympy_1.9-1_all.deb ...\n",
            "Unpacking python3-sympy (1.9-1) ...\n",
            "Selecting previously unselected package python3-tz.\n",
            "Preparing to unpack .../35-python3-tz_2022.1-1ubuntu0.22.04.1_all.deb ...\n",
            "Unpacking python3-tz (2022.1-1ubuntu0.22.04.1) ...\n",
            "Selecting previously unselected package python3-fs.\n",
            "Preparing to unpack .../36-python3-fs_2.4.12-1_all.deb ...\n",
            "Unpacking python3-fs (2.4.12-1) ...\n",
            "Selecting previously unselected package python3-lxml:amd64.\n",
            "Preparing to unpack .../37-python3-lxml_4.8.0-1build1_amd64.deb ...\n",
            "Unpacking python3-lxml:amd64 (4.8.0-1build1) ...\n",
            "Selecting previously unselected package python3-lz4.\n",
            "Preparing to unpack .../38-python3-lz4_3.1.3+dfsg-1build3_amd64.deb ...\n",
            "Unpacking python3-lz4 (3.1.3+dfsg-1build3) ...\n",
            "Selecting previously unselected package python3-unicodedata2.\n",
            "Preparing to unpack .../39-python3-unicodedata2_14.0.0+ds-8_amd64.deb ...\n",
            "Unpacking python3-unicodedata2 (14.0.0+ds-8) ...\n",
            "Selecting previously unselected package unicode-data.\n",
            "Preparing to unpack .../40-unicode-data_14.0.0-1.1_all.deb ...\n",
            "Unpacking unicode-data (14.0.0-1.1) ...\n",
            "Selecting previously unselected package python3-fonttools.\n",
            "Preparing to unpack .../41-python3-fonttools_4.29.1-2build1_amd64.deb ...\n",
            "Unpacking python3-fonttools (4.29.1-2build1) ...\n",
            "Selecting previously unselected package python3-webencodings.\n",
            "Preparing to unpack .../42-python3-webencodings_0.5.1-4_all.deb ...\n",
            "Unpacking python3-webencodings (0.5.1-4) ...\n",
            "Selecting previously unselected package python3-html5lib.\n",
            "Preparing to unpack .../43-python3-html5lib_1.1-3_all.deb ...\n",
            "Unpacking python3-html5lib (1.1-3) ...\n",
            "Selecting previously unselected package python3-kiwisolver.\n",
            "Preparing to unpack .../44-python3-kiwisolver_1.3.2-1build1_amd64.deb ...\n",
            "Unpacking python3-kiwisolver (1.3.2-1build1) ...\n",
            "Selecting previously unselected package python3-pil:amd64.\n",
            "Preparing to unpack .../45-python3-pil_9.0.1-1ubuntu0.3_amd64.deb ...\n",
            "Unpacking python3-pil:amd64 (9.0.1-1ubuntu0.3) ...\n",
            "Selecting previously unselected package python3-pil.imagetk:amd64.\n",
            "Preparing to unpack .../46-python3-pil.imagetk_9.0.1-1ubuntu0.3_amd64.deb ...\n",
            "Unpacking python3-pil.imagetk:amd64 (9.0.1-1ubuntu0.3) ...\n",
            "Selecting previously unselected package python3-packaging.\n",
            "Preparing to unpack .../47-python3-packaging_21.3-1_all.deb ...\n",
            "Unpacking python3-packaging (21.3-1) ...\n",
            "Selecting previously unselected package python3-matplotlib.\n",
            "Preparing to unpack .../48-python3-matplotlib_3.5.1-2build1_amd64.deb ...\n",
            "Unpacking python3-matplotlib (3.5.1-2build1) ...\n",
            "Selecting previously unselected package python3-olefile.\n",
            "Preparing to unpack .../49-python3-olefile_0.46-3_all.deb ...\n",
            "Unpacking python3-olefile (0.46-3) ...\n",
            "Selecting previously unselected package python3-graph-tool.\n",
            "Preparing to unpack .../50-python3-graph-tool_2.71_amd64.deb ...\n",
            "Unpacking python3-graph-tool (2.71) ...\n",
            "Setting up python3-attr (21.2.0-1) ...\n",
            "Setting up gir1.2-freedesktop:amd64 (1.72.0-1) ...\n",
            "Setting up python3-cairo:amd64 (1.20.1-3build1) ...\n",
            "Setting up libpangoxft-1.0-0:amd64 (1.50.6+ds-2ubuntu1) ...\n",
            "Setting up gir1.2-gdkpixbuf-2.0:amd64 (2.42.8+dfsg-1ubuntu0.3) ...\n",
            "Setting up python3-lz4 (3.1.3+dfsg-1build3) ...\n",
            "Setting up gir1.2-atk-1.0:amd64 (2.36.0-3build1) ...\n",
            "Setting up python3-unicodedata2 (14.0.0+ds-8) ...\n",
            "Setting up fonts-lyx (2.3.6-1) ...\n",
            "Setting up python3-olefile (0.46-3) ...\n",
            "Setting up python3-ply (3.11-5) ...\n",
            "Setting up python3-gast (0.5.2-2) ...\n",
            "Setting up gir1.2-harfbuzz-0.0:amd64 (2.7.4-1ubuntu3.1) ...\n",
            "Setting up python3-webencodings (0.5.1-4) ...\n",
            "Setting up python3-tz (2022.1-1ubuntu0.22.04.1) ...\n",
            "Setting up unicode-data (14.0.0-1.1) ...\n",
            "Setting up python3-beniget (0.4.1-2) ...\n",
            "Setting up libxsimd-dev:amd64 (7.6.0-2) ...\n",
            "Setting up python3-decorator (4.4.2-0ubuntu1) ...\n",
            "Setting up gir1.2-pango-1.0:amd64 (1.50.6+ds-2ubuntu1) ...\n",
            "Setting up python3-packaging (21.3-1) ...\n",
            "Setting up python3-chardet (4.0.0-1) ...\n",
            "Setting up libsigc++-2.0-0v5:amd64 (2.10.4-2ubuntu3) ...\n",
            "Setting up python3-brotli (1.0.9-2build6) ...\n",
            "Setting up libraqm0:amd64 (0.7.0-4ubuntu1) ...\n",
            "Setting up python3-cycler (0.11.0-1) ...\n",
            "Setting up libimagequant0:amd64 (2.17.0-1) ...\n",
            "Setting up python3-kiwisolver (1.3.2-1build1) ...\n",
            "Setting up fonts-dejavu-core (2.37-2build1) ...\n",
            "Setting up python3-html5lib (1.1-3) ...\n",
            "Setting up python3-numpy (1:1.21.5-1ubuntu22.04.1) ...\n",
            "Setting up python3-pythran (0.10.0+ds2-1) ...\n",
            "Setting up python3-lxml:amd64 (4.8.0-1build1) ...\n",
            "Setting up python3-dateutil (2.8.1-6) ...\n",
            "Setting up python3-mpmath (1.2.1-2) ...\n",
            "Setting up python-matplotlib-data (3.5.1-2build1) ...\n",
            "Setting up python3-appdirs (1.4.4-2) ...\n",
            "Setting up python3-soupsieve (2.3.1-1) ...\n",
            "Setting up liblbfgsb0:amd64 (3.0+dfsg.3-10) ...\n",
            "Setting up python3-sympy (1.9-1) ...\n",
            "Setting up python3-scipy (1.8.0-1exp2ubuntu1) ...\n",
            "Setting up gir1.2-gtk-3.0:amd64 (3.24.33-1ubuntu2.1) ...\n",
            "Setting up python3-bs4 (4.10.0-2) ...\n",
            "Setting up python3-fs (2.4.12-1) ...\n",
            "Setting up libcairomm-1.0-1v5:amd64 (1.12.2-4build3) ...\n",
            "Setting up python3-graph-tool (2.71) ...\n",
            "Setting up python3-pil:amd64 (9.0.1-1ubuntu0.3) ...\n",
            "Setting up python3-pil.imagetk:amd64 (9.0.1-1ubuntu0.3) ...\n",
            "Setting up python3-ufolib2 (0.13.1+dfsg1-1) ...\n",
            "Setting up python3-fonttools (4.29.1-2build1) ...\n",
            "Setting up python3-matplotlib (3.5.1-2build1) ...\n",
            "Processing triggers for libc-bin (2.35-0ubuntu3.4) ...\n",
            "/sbin/ldconfig.real: /usr/local/lib/libtbbbind.so.3 is not a symbolic link\n",
            "\n",
            "/sbin/ldconfig.real: /usr/local/lib/libtbbmalloc_proxy.so.2 is not a symbolic link\n",
            "\n",
            "/sbin/ldconfig.real: /usr/local/lib/libtbbmalloc.so.2 is not a symbolic link\n",
            "\n",
            "/sbin/ldconfig.real: /usr/local/lib/libtbbbind_2_5.so.3 is not a symbolic link\n",
            "\n",
            "/sbin/ldconfig.real: /usr/local/lib/libtbb.so.12 is not a symbolic link\n",
            "\n",
            "/sbin/ldconfig.real: /usr/local/lib/libtbbbind_2_0.so.3 is not a symbolic link\n",
            "\n",
            "Processing triggers for man-db (2.10.2-1) ...\n",
            "Processing triggers for fontconfig (2.13.1-4.2ubuntu5) ...\n"
          ]
        }
      ]
    },
    {
      "cell_type": "code",
      "source": [
        "# Colab uses a Python install that deviates from the system's! Bad colab! We need some workarounds.\n",
        "!apt purge python3-cairo\n",
        "!apt install libcairo2-dev pkg-config python3-dev\n",
        "!pip install --force-reinstall pycairo\n",
        "!pip install zstandard"
      ],
      "metadata": {
        "id": "AmowQmUOaNgI",
        "colab": {
          "base_uri": "https://localhost:8080/"
        },
        "outputId": "db25b716-d393-43c2-aa4d-e81b4552b87e"
      },
      "execution_count": 3,
      "outputs": [
        {
          "output_type": "stream",
          "name": "stdout",
          "text": [
            "Reading package lists... Done\n",
            "Building dependency tree... Done\n",
            "Reading state information... Done\n",
            "The following packages will be REMOVED:\n",
            "  python3-cairo*\n",
            "0 upgraded, 0 newly installed, 1 to remove and 48 not upgraded.\n",
            "After this operation, 310 kB disk space will be freed.\n",
            "(Reading database ... 130326 files and directories currently installed.)\n",
            "Removing python3-cairo:amd64 (1.20.1-3build1) ...\n",
            "Reading package lists... Done\n",
            "Building dependency tree... Done\n",
            "Reading state information... Done\n",
            "python3-dev is already the newest version (3.10.6-1~22.04).\n",
            "python3-dev set to manually installed.\n",
            "The following packages were automatically installed and are no longer required:\n",
            "  libbz2-dev libpkgconf3 libreadline-dev\n",
            "Use 'apt autoremove' to remove them.\n",
            "The following additional packages will be installed:\n",
            "  libblkid-dev libblkid1 libcairo-script-interpreter2 libffi-dev libglib2.0-dev libglib2.0-dev-bin\n",
            "  libice-dev liblzo2-2 libmount-dev libmount1 libpixman-1-dev libselinux1-dev libsepol-dev\n",
            "  libsm-dev libxcb-render0-dev libxcb-shm0-dev\n",
            "Suggested packages:\n",
            "  libcairo2-doc libgirepository1.0-dev libglib2.0-doc libgdk-pixbuf2.0-bin | libgdk-pixbuf2.0-dev\n",
            "  libxml2-utils libice-doc cryptsetup-bin libsm-doc\n",
            "The following packages will be REMOVED:\n",
            "  pkgconf r-base-dev\n",
            "The following NEW packages will be installed:\n",
            "  libblkid-dev libcairo-script-interpreter2 libcairo2-dev libffi-dev libglib2.0-dev\n",
            "  libglib2.0-dev-bin libice-dev liblzo2-2 libmount-dev libpixman-1-dev libselinux1-dev libsepol-dev\n",
            "  libsm-dev libxcb-render0-dev libxcb-shm0-dev pkg-config\n",
            "The following packages will be upgraded:\n",
            "  libblkid1 libmount1\n",
            "2 upgraded, 16 newly installed, 2 to remove and 46 not upgraded.\n",
            "Need to get 4,116 kB of archives.\n",
            "After this operation, 19.8 MB of additional disk space will be used.\n",
            "Get:1 http://archive.ubuntu.com/ubuntu jammy/main amd64 pkg-config amd64 0.29.2-1ubuntu3 [48.2 kB]\n",
            "Get:2 http://archive.ubuntu.com/ubuntu jammy-updates/main amd64 libblkid1 amd64 2.37.2-4ubuntu3.4 [103 kB]\n",
            "Get:3 http://archive.ubuntu.com/ubuntu jammy-updates/main amd64 libmount1 amd64 2.37.2-4ubuntu3.4 [122 kB]\n",
            "Get:4 http://archive.ubuntu.com/ubuntu jammy/main amd64 liblzo2-2 amd64 2.10-2build3 [53.7 kB]\n",
            "Get:5 http://archive.ubuntu.com/ubuntu jammy/main amd64 libcairo-script-interpreter2 amd64 1.16.0-5ubuntu2 [62.0 kB]\n",
            "Get:6 http://archive.ubuntu.com/ubuntu jammy/main amd64 libice-dev amd64 2:1.0.10-1build2 [51.4 kB]\n",
            "Get:7 http://archive.ubuntu.com/ubuntu jammy/main amd64 libsm-dev amd64 2:1.2.3-1build2 [18.1 kB]\n",
            "Get:8 http://archive.ubuntu.com/ubuntu jammy-updates/main amd64 libpixman-1-dev amd64 0.40.0-1ubuntu0.22.04.1 [280 kB]\n",
            "Get:9 http://archive.ubuntu.com/ubuntu jammy/main amd64 libxcb-render0-dev amd64 1.14-3ubuntu3 [19.6 kB]\n",
            "Get:10 http://archive.ubuntu.com/ubuntu jammy/main amd64 libxcb-shm0-dev amd64 1.14-3ubuntu3 [6,848 B]\n",
            "Get:11 http://archive.ubuntu.com/ubuntu jammy/main amd64 libffi-dev amd64 3.4.2-4 [63.7 kB]\n",
            "Get:12 http://archive.ubuntu.com/ubuntu jammy-updates/main amd64 libglib2.0-dev-bin amd64 2.72.4-0ubuntu2.3 [117 kB]\n",
            "Get:13 http://archive.ubuntu.com/ubuntu jammy-updates/main amd64 libblkid-dev amd64 2.37.2-4ubuntu3.4 [185 kB]\n",
            "Get:14 http://archive.ubuntu.com/ubuntu jammy/main amd64 libsepol-dev amd64 3.3-1build1 [378 kB]\n",
            "Get:15 http://archive.ubuntu.com/ubuntu jammy/main amd64 libselinux1-dev amd64 3.3-1build2 [158 kB]\n",
            "Get:16 http://archive.ubuntu.com/ubuntu jammy-updates/main amd64 libmount-dev amd64 2.37.2-4ubuntu3.4 [14.5 kB]\n",
            "Get:17 http://archive.ubuntu.com/ubuntu jammy-updates/main amd64 libglib2.0-dev amd64 2.72.4-0ubuntu2.3 [1,743 kB]\n",
            "Get:18 http://archive.ubuntu.com/ubuntu jammy/main amd64 libcairo2-dev amd64 1.16.0-5ubuntu2 [692 kB]\n",
            "Fetched 4,116 kB in 0s (12.1 MB/s)\n",
            "(Reading database ... 130317 files and directories currently installed.)\n",
            "Removing r-base-dev (4.4.1-1.2204.0) ...\n",
            "\u001b[1mdpkg:\u001b[0m pkgconf: dependency problems, but removing anyway as you requested:\n",
            " libsndfile1-dev:amd64 depends on pkg-config; however:\n",
            "  Package pkg-config is not installed.\n",
            "  Package pkgconf which provides pkg-config is to be removed.\n",
            " libopencv-dev depends on pkg-config; however:\n",
            "  Package pkg-config is not installed.\n",
            "  Package pkgconf which provides pkg-config is to be removed.\n",
            " libmkl-dev:amd64 depends on pkg-config; however:\n",
            "  Package pkg-config is not installed.\n",
            "  Package pkgconf which provides pkg-config is to be removed.\n",
            " libjack-dev depends on pkg-config; however:\n",
            "  Package pkg-config is not installed.\n",
            "  Package pkgconf which provides pkg-config is to be removed.\n",
            " libgphoto2-dev:amd64 depends on pkg-config; however:\n",
            "  Package pkg-config is not installed.\n",
            "  Package pkgconf which provides pkg-config is to be removed.\n",
            " libfontconfig-dev:amd64 depends on pkg-config; however:\n",
            "  Package pkg-config is not installed.\n",
            "  Package pkgconf which provides pkg-config is to be removed.\n",
            "\n",
            "Removing pkgconf (1.8.0-1) ...\n",
            "Removing 'diversion of /usr/bin/pkg-config to /usr/bin/pkg-config.real by pkgconf'\n",
            "Removing 'diversion of /usr/share/aclocal/pkg.m4 to /usr/share/aclocal/pkg.real.m4 by pkgconf'\n",
            "Removing 'diversion of /usr/share/man/man1/pkg-config.1.gz to /usr/share/man/man1/pkg-config.real.1.gz by pkgconf'\n",
            "Removing 'diversion of /usr/share/pkg-config-crosswrapper to /usr/share/pkg-config-crosswrapper.real by pkgconf'\n",
            "Selecting previously unselected package pkg-config.\n",
            "(Reading database ... 130293 files and directories currently installed.)\n",
            "Preparing to unpack .../pkg-config_0.29.2-1ubuntu3_amd64.deb ...\n",
            "Unpacking pkg-config (0.29.2-1ubuntu3) ...\n",
            "Preparing to unpack .../libblkid1_2.37.2-4ubuntu3.4_amd64.deb ...\n",
            "Unpacking libblkid1:amd64 (2.37.2-4ubuntu3.4) over (2.37.2-4ubuntu3) ...\n",
            "Setting up libblkid1:amd64 (2.37.2-4ubuntu3.4) ...\n",
            "(Reading database ... 130308 files and directories currently installed.)\n",
            "Preparing to unpack .../libmount1_2.37.2-4ubuntu3.4_amd64.deb ...\n",
            "Unpacking libmount1:amd64 (2.37.2-4ubuntu3.4) over (2.37.2-4ubuntu3) ...\n",
            "Setting up libmount1:amd64 (2.37.2-4ubuntu3.4) ...\n",
            "Selecting previously unselected package liblzo2-2:amd64.\n",
            "(Reading database ... 130308 files and directories currently installed.)\n",
            "Preparing to unpack .../00-liblzo2-2_2.10-2build3_amd64.deb ...\n",
            "Unpacking liblzo2-2:amd64 (2.10-2build3) ...\n",
            "Selecting previously unselected package libcairo-script-interpreter2:amd64.\n",
            "Preparing to unpack .../01-libcairo-script-interpreter2_1.16.0-5ubuntu2_amd64.deb ...\n",
            "Unpacking libcairo-script-interpreter2:amd64 (1.16.0-5ubuntu2) ...\n",
            "Selecting previously unselected package libice-dev:amd64.\n",
            "Preparing to unpack .../02-libice-dev_2%3a1.0.10-1build2_amd64.deb ...\n",
            "Unpacking libice-dev:amd64 (2:1.0.10-1build2) ...\n",
            "Selecting previously unselected package libsm-dev:amd64.\n",
            "Preparing to unpack .../03-libsm-dev_2%3a1.2.3-1build2_amd64.deb ...\n",
            "Unpacking libsm-dev:amd64 (2:1.2.3-1build2) ...\n",
            "Selecting previously unselected package libpixman-1-dev:amd64.\n",
            "Preparing to unpack .../04-libpixman-1-dev_0.40.0-1ubuntu0.22.04.1_amd64.deb ...\n",
            "Unpacking libpixman-1-dev:amd64 (0.40.0-1ubuntu0.22.04.1) ...\n",
            "Selecting previously unselected package libxcb-render0-dev:amd64.\n",
            "Preparing to unpack .../05-libxcb-render0-dev_1.14-3ubuntu3_amd64.deb ...\n",
            "Unpacking libxcb-render0-dev:amd64 (1.14-3ubuntu3) ...\n",
            "Selecting previously unselected package libxcb-shm0-dev:amd64.\n",
            "Preparing to unpack .../06-libxcb-shm0-dev_1.14-3ubuntu3_amd64.deb ...\n",
            "Unpacking libxcb-shm0-dev:amd64 (1.14-3ubuntu3) ...\n",
            "Selecting previously unselected package libffi-dev:amd64.\n",
            "Preparing to unpack .../07-libffi-dev_3.4.2-4_amd64.deb ...\n",
            "Unpacking libffi-dev:amd64 (3.4.2-4) ...\n",
            "Selecting previously unselected package libglib2.0-dev-bin.\n",
            "Preparing to unpack .../08-libglib2.0-dev-bin_2.72.4-0ubuntu2.3_amd64.deb ...\n",
            "Unpacking libglib2.0-dev-bin (2.72.4-0ubuntu2.3) ...\n",
            "Selecting previously unselected package libblkid-dev:amd64.\n",
            "Preparing to unpack .../09-libblkid-dev_2.37.2-4ubuntu3.4_amd64.deb ...\n",
            "Unpacking libblkid-dev:amd64 (2.37.2-4ubuntu3.4) ...\n",
            "Selecting previously unselected package libsepol-dev:amd64.\n",
            "Preparing to unpack .../10-libsepol-dev_3.3-1build1_amd64.deb ...\n",
            "Unpacking libsepol-dev:amd64 (3.3-1build1) ...\n",
            "Selecting previously unselected package libselinux1-dev:amd64.\n",
            "Preparing to unpack .../11-libselinux1-dev_3.3-1build2_amd64.deb ...\n",
            "Unpacking libselinux1-dev:amd64 (3.3-1build2) ...\n",
            "Selecting previously unselected package libmount-dev:amd64.\n",
            "Preparing to unpack .../12-libmount-dev_2.37.2-4ubuntu3.4_amd64.deb ...\n",
            "Unpacking libmount-dev:amd64 (2.37.2-4ubuntu3.4) ...\n",
            "Selecting previously unselected package libglib2.0-dev:amd64.\n",
            "Preparing to unpack .../13-libglib2.0-dev_2.72.4-0ubuntu2.3_amd64.deb ...\n",
            "Unpacking libglib2.0-dev:amd64 (2.72.4-0ubuntu2.3) ...\n",
            "Selecting previously unselected package libcairo2-dev:amd64.\n",
            "Preparing to unpack .../14-libcairo2-dev_1.16.0-5ubuntu2_amd64.deb ...\n",
            "Unpacking libcairo2-dev:amd64 (1.16.0-5ubuntu2) ...\n",
            "Setting up libglib2.0-dev-bin (2.72.4-0ubuntu2.3) ...\n",
            "Setting up libblkid-dev:amd64 (2.37.2-4ubuntu3.4) ...\n",
            "Setting up libpixman-1-dev:amd64 (0.40.0-1ubuntu0.22.04.1) ...\n",
            "Setting up libice-dev:amd64 (2:1.0.10-1build2) ...\n",
            "Setting up libsm-dev:amd64 (2:1.2.3-1build2) ...\n",
            "Setting up liblzo2-2:amd64 (2.10-2build3) ...\n",
            "Setting up libffi-dev:amd64 (3.4.2-4) ...\n",
            "Setting up libxcb-shm0-dev:amd64 (1.14-3ubuntu3) ...\n",
            "Setting up pkg-config (0.29.2-1ubuntu3) ...\n",
            "Setting up libsepol-dev:amd64 (3.3-1build1) ...\n",
            "Setting up libxcb-render0-dev:amd64 (1.14-3ubuntu3) ...\n",
            "Setting up libcairo-script-interpreter2:amd64 (1.16.0-5ubuntu2) ...\n",
            "Setting up libselinux1-dev:amd64 (3.3-1build2) ...\n",
            "Setting up libmount-dev:amd64 (2.37.2-4ubuntu3.4) ...\n",
            "Setting up libglib2.0-dev:amd64 (2.72.4-0ubuntu2.3) ...\n",
            "Processing triggers for libglib2.0-0:amd64 (2.72.4-0ubuntu2.3) ...\n",
            "Processing triggers for libc-bin (2.35-0ubuntu3.4) ...\n",
            "/sbin/ldconfig.real: /usr/local/lib/libtbbbind.so.3 is not a symbolic link\n",
            "\n",
            "/sbin/ldconfig.real: /usr/local/lib/libtbbmalloc_proxy.so.2 is not a symbolic link\n",
            "\n",
            "/sbin/ldconfig.real: /usr/local/lib/libtbbmalloc.so.2 is not a symbolic link\n",
            "\n",
            "/sbin/ldconfig.real: /usr/local/lib/libtbbbind_2_5.so.3 is not a symbolic link\n",
            "\n",
            "/sbin/ldconfig.real: /usr/local/lib/libtbb.so.12 is not a symbolic link\n",
            "\n",
            "/sbin/ldconfig.real: /usr/local/lib/libtbbbind_2_0.so.3 is not a symbolic link\n",
            "\n",
            "Processing triggers for man-db (2.10.2-1) ...\n",
            "Setting up libcairo2-dev:amd64 (1.16.0-5ubuntu2) ...\n",
            "Collecting pycairo\n",
            "  Downloading pycairo-1.26.1.tar.gz (346 kB)\n",
            "\u001b[2K     \u001b[90m━━━━━━━━━━━━━━━━━━━━━━━━━━━━━━━━━━━━━━━━\u001b[0m \u001b[32m346.9/346.9 kB\u001b[0m \u001b[31m4.4 MB/s\u001b[0m eta \u001b[36m0:00:00\u001b[0m\n",
            "\u001b[?25h  Installing build dependencies ... \u001b[?25l\u001b[?25hdone\n",
            "  Getting requirements to build wheel ... \u001b[?25l\u001b[?25hdone\n",
            "  Preparing metadata (pyproject.toml) ... \u001b[?25l\u001b[?25hdone\n",
            "Building wheels for collected packages: pycairo\n",
            "  Building wheel for pycairo (pyproject.toml) ... \u001b[?25l\u001b[?25hdone\n",
            "  Created wheel for pycairo: filename=pycairo-1.26.1-cp310-cp310-linux_x86_64.whl size=320950 sha256=e23aee95dc3de2bc612fca7c78e7d712635021ceb7a260d9d6b8141df1bd242e\n",
            "  Stored in directory: /root/.cache/pip/wheels/c0/e2/b9/6025703b36ae6f9db93c4d94787112b886f7945ab35c8d5587\n",
            "Successfully built pycairo\n",
            "Installing collected packages: pycairo\n",
            "Successfully installed pycairo-1.26.1\n",
            "Collecting zstandard\n",
            "  Downloading zstandard-0.22.0-cp310-cp310-manylinux_2_17_x86_64.manylinux2014_x86_64.whl (5.4 MB)\n",
            "\u001b[2K     \u001b[90m━━━━━━━━━━━━━━━━━━━━━━━━━━━━━━━━━━━━━━━━\u001b[0m \u001b[32m5.4/5.4 MB\u001b[0m \u001b[31m30.0 MB/s\u001b[0m eta \u001b[36m0:00:00\u001b[0m\n",
            "\u001b[?25hInstalling collected packages: zstandard\n",
            "Successfully installed zstandard-0.22.0\n"
          ]
        }
      ]
    },
    {
      "cell_type": "markdown",
      "metadata": {
        "id": "iDu3Slhq2zyh"
      },
      "source": [
        "Now we can use graph-tool as any other Python module\n",
        "\n"
      ]
    },
    {
      "cell_type": "code",
      "metadata": {
        "id": "6km1lWMF2kAm"
      },
      "source": [
        "from graph_tool.all import *\n",
        "import graph_tool as gt"
      ],
      "execution_count": 4,
      "outputs": []
    },
    {
      "cell_type": "markdown",
      "source": [
        "## Leitura das redes"
      ],
      "metadata": {
        "id": "OjfCmTDtcOdw"
      }
    },
    {
      "cell_type": "markdown",
      "source": [
        "Obtenção das redes em https://networks.skewed.de\n",
        "\n",
        "Importação da rede diretamente pela biblioteca Graph-tool, seguida de transformação para networkx."
      ],
      "metadata": {
        "id": "Erk2iXo9d5gY"
      }
    },
    {
      "cell_type": "code",
      "source": [
        "def graph_tool_to_networkx(graph_tool_graph):\n",
        "    nx_graph = nx.Graph()\n",
        "    for v in graph_tool_graph.vertices():\n",
        "        attrs = {k: graph_tool_graph.vp[k][v] for k in graph_tool_graph.vp.keys()}\n",
        "        nx_graph.add_node(int(v), **attrs)\n",
        "    for e in graph_tool_graph.edges():\n",
        "        source = int(e.source())\n",
        "        target = int(e.target())\n",
        "        attrs = {k: graph_tool_graph.ep[k][e] for k in graph_tool_graph.ep.keys()}\n",
        "        nx_graph.add_edge(source, target, **attrs)\n",
        "    return nx_graph"
      ],
      "metadata": {
        "id": "ifHLckNDb0AW"
      },
      "execution_count": 5,
      "outputs": []
    },
    {
      "cell_type": "code",
      "source": [
        "# Leitura dos dados: 9 redes\n",
        "grafos = []\n",
        "grafos.append(graph_tool_to_networkx(gt.collection.ns[\"malaria_genes/HVR_1\"])) #biológica: https://networks.skewed.de/net/malaria_genes\n",
        "grafos.append(graph_tool_to_networkx(gt.collection.ns[\"celegans_metabolic\"]))  #biológica: https://networks.skewed.de/net/celegans_metabolic\n",
        "grafos.append(graph_tool_to_networkx(gt.collection.ns[\"yeast_transcription\"])) #biológica: https://networks.skewed.de/net/yeast_transcription\n",
        "grafos.append(graph_tool_to_networkx(gt.collection.ns[\"lesmis\"]))             #social: https://networks.skewed.de/net/lesmis\n",
        "grafos.append(graph_tool_to_networkx(gt.collection.ns[\"facebook_friends\"]))   #social: https://networks.skewed.de/net/facebook_friends\n",
        "grafos.append(graph_tool_to_networkx(gt.collection.ns[\"jazz_collab\"]))        #social: https://networks.skewed.de/net/jazz_collab\n",
        "grafos.append(graph_tool_to_networkx(gt.collection.ns[\"route_views/19971108\"])) #tecnológica: https://networks.skewed.de/net/route_views\n",
        "grafos.append(graph_tool_to_networkx(gt.collection.ns[\"power\"]))             #tecnológica: https://networks.skewed.de/net/power\n",
        "grafos.append(graph_tool_to_networkx(gt.collection.ns[\"internet_top_pop/Kdl\"])) #tecnológica: https://networks.skewed.de/net/internet_top_pop"
      ],
      "metadata": {
        "id": "Rh9APMFXbIGn"
      },
      "execution_count": 6,
      "outputs": []
    },
    {
      "cell_type": "code",
      "source": [
        "redes = ['malaria_genes', 'celegans_metabolic', 'yeast_transcription', 'lesmis', 'facebook_friends', 'jazz_collab', 'route_views', 'power', 'internet_top_pop_kdl']"
      ],
      "metadata": {
        "id": "6ZoJlm73mHpa"
      },
      "execution_count": 7,
      "outputs": []
    },
    {
      "cell_type": "markdown",
      "source": [
        "## Informação das redes"
      ],
      "metadata": {
        "id": "uyhEX-LZ0uel"
      }
    },
    {
      "cell_type": "code",
      "source": [
        "# Informações das redes\n",
        "for index, G in enumerate(grafos):\n",
        "  if index == 0: print('Redes biológicas')\n",
        "  elif index == 3: print('Redes sociais')\n",
        "  elif index == 6: print('Redes tecnológicas')\n",
        "  print(redes[index])\n",
        "  print(\"Nodes:\", nx.number_of_nodes(G))\n",
        "  print(\"Edges:\", nx.number_of_edges(G))\n",
        "  print(\"-----------------------------\")"
      ],
      "metadata": {
        "colab": {
          "base_uri": "https://localhost:8080/"
        },
        "id": "g23O2vTfb5GK",
        "outputId": "dc2bd82c-0ce6-4309-d862-0ed9fc1bc2fa"
      },
      "execution_count": 8,
      "outputs": [
        {
          "output_type": "stream",
          "name": "stdout",
          "text": [
            "Redes biológicas\n",
            "malaria_genes\n",
            "Nodes: 307\n",
            "Edges: 2812\n",
            "-----------------------------\n",
            "celegans_metabolic\n",
            "Nodes: 453\n",
            "Edges: 2040\n",
            "-----------------------------\n",
            "yeast_transcription\n",
            "Nodes: 916\n",
            "Edges: 1093\n",
            "-----------------------------\n",
            "Redes sociais\n",
            "lesmis\n",
            "Nodes: 77\n",
            "Edges: 254\n",
            "-----------------------------\n",
            "facebook_friends\n",
            "Nodes: 362\n",
            "Edges: 1988\n",
            "-----------------------------\n",
            "jazz_collab\n",
            "Nodes: 198\n",
            "Edges: 2742\n",
            "-----------------------------\n",
            "Redes tecnológicas\n",
            "route_views\n",
            "Nodes: 3015\n",
            "Edges: 5539\n",
            "-----------------------------\n",
            "power\n",
            "Nodes: 4941\n",
            "Edges: 6594\n",
            "-----------------------------\n",
            "internet_top_pop_kdl\n",
            "Nodes: 754\n",
            "Edges: 895\n",
            "-----------------------------\n"
          ]
        }
      ]
    },
    {
      "cell_type": "code",
      "source": [
        "# Número de componentes conectados\n",
        "for index, G in enumerate(grafos):\n",
        "  print(str(index) + ': ' + str(nx.number_connected_components(G))) #2, 4"
      ],
      "metadata": {
        "colab": {
          "base_uri": "https://localhost:8080/"
        },
        "id": "ftpF6h5nsFBs",
        "outputId": "1f58c0bf-5bf1-4ee5-baa9-b994558e4db8"
      },
      "execution_count": 9,
      "outputs": [
        {
          "output_type": "stream",
          "name": "stdout",
          "text": [
            "0: 1\n",
            "1: 1\n",
            "2: 237\n",
            "3: 1\n",
            "4: 20\n",
            "5: 1\n",
            "6: 1\n",
            "7: 1\n",
            "8: 1\n"
          ]
        }
      ]
    },
    {
      "cell_type": "markdown",
      "source": [
        "## Preparação das redes"
      ],
      "metadata": {
        "id": "R1wKV_9bnAUu"
      }
    },
    {
      "cell_type": "code",
      "source": [
        "# Preparação da rede\n",
        "for i in range(len(grafos)):\n",
        "  G = grafos[i]\n",
        "  G = G.to_undirected()                     # não direcionada\n",
        "  G.remove_edges_from(nx.selfloop_edges(G)) # remoção auto-loops\n",
        "  Gcc = sorted(nx.connected_components(G), key = len, reverse = True) # maior componente conectado\n",
        "  G = G.subgraph(Gcc[0])\n",
        "  G = nx.convert_node_labels_to_integers(G, first_label = 0)\n",
        "  grafos[i] = G"
      ],
      "metadata": {
        "id": "eyvs92-Nonp8"
      },
      "execution_count": 10,
      "outputs": []
    },
    {
      "cell_type": "code",
      "source": [
        "# Número de componentes conectados\n",
        "for index, G in enumerate(grafos):\n",
        "  print(str(index) + ': ' + str(nx.number_connected_components(G)))"
      ],
      "metadata": {
        "colab": {
          "base_uri": "https://localhost:8080/"
        },
        "id": "W3ljnSXqrJux",
        "outputId": "8b51a30a-f055-43a0-dadf-01d1f10b1cbe"
      },
      "execution_count": 11,
      "outputs": [
        {
          "output_type": "stream",
          "name": "stdout",
          "text": [
            "0: 1\n",
            "1: 1\n",
            "2: 1\n",
            "3: 1\n",
            "4: 1\n",
            "5: 1\n",
            "6: 1\n",
            "7: 1\n",
            "8: 1\n"
          ]
        }
      ]
    },
    {
      "cell_type": "markdown",
      "source": [
        "## Medidas de rede"
      ],
      "metadata": {
        "id": "wh37799tnRMf"
      }
    },
    {
      "cell_type": "code",
      "source": [
        "# Medidas de rede\n",
        "def measures(G):\n",
        "\n",
        "  # graus\n",
        "  vk = dict(G.degree())\n",
        "  vk = list(vk.values())\n",
        "  vk = np.array(vk)\n",
        "\n",
        "  # distribuição momento de graus\n",
        "  def momment_of_degree_distribution(G, m):\n",
        "      M = 0\n",
        "      N = len(G)\n",
        "      for i in G.nodes:\n",
        "          M = M + G.degree(i)**m\n",
        "      M = M/N\n",
        "      return M\n",
        "  k1 = momment_of_degree_distribution(G, 1)\n",
        "  k2 = momment_of_degree_distribution(G, 2)\n",
        "\n",
        "  # variância\n",
        "  var = momment_of_degree_distribution(G, 2) - momment_of_degree_distribution(G, 1)**2\n",
        "\n",
        "  # average clustering\n",
        "  av_cl = nx.average_clustering(G)\n",
        "\n",
        "  # menor caminho médio\n",
        "  l = nx.average_shortest_path_length(G)\n",
        "\n",
        "  # grau de assortatividade\n",
        "  r = nx.degree_assortativity_coefficient(G)\n",
        "\n",
        "  return  k1, k2, var, av_cl, l, r # lista de medidas"
      ],
      "metadata": {
        "id": "WV_W6q8mbezE"
      },
      "execution_count": 12,
      "outputs": []
    },
    {
      "cell_type": "markdown",
      "source": [
        "**Vetor de características**"
      ],
      "metadata": {
        "id": "4Fh3ayITWOUr"
      }
    },
    {
      "cell_type": "code",
      "source": [
        "vetores_caracteristicos = []\n",
        "for G in grafos:\n",
        "  k1, k2, var, av_cl, l, r = measures(G) # Cálculo medidas da rede\n",
        "  X_net = [k1, k2, var, av_cl, l, r]    # Vetor de características da rede\n",
        "  print(X_net)\n",
        "  vetores_caracteristicos.append(X_net)"
      ],
      "metadata": {
        "id": "1_-ipBs8fDuG",
        "colab": {
          "base_uri": "https://localhost:8080/"
        },
        "outputId": "e3e19aa4-94d8-43e0-abcf-57b8d50c8a04"
      },
      "execution_count": 13,
      "outputs": [
        {
          "output_type": "stream",
          "name": "stdout",
          "text": [
            "[18.319218241042346, 457.7785016286645, 122.18474466572587, 0.5701523452772743, 3.5190862447041793, 0.5991478526809376]\n",
            "[8.940397350993377, 358.49006622516555, 278.55936143151615, 0.646463092156505, 2.6637851882240327, -0.2258208879683295]\n",
            "[3.2078313253012047, 43.286144578313255, 32.99596276672957, 0.048817590830936314, 5.200239873521234, -0.4083912916261682]\n",
            "[6.597402597402597, 79.53246753246754, 36.006746500252994, 0.5731367499320134, 2.6411483253588517, -0.16522513442237025]\n",
            "[11.878419452887538, 260.8632218844985, 119.76637318576141, 0.6052943472285397, 3.584216769219364, 0.07388134601973691]\n",
            "[27.696969696969695, 1070.2424242424242, 303.1202938475667, 0.6174507021536305, 2.2350407629595446, 0.020237399275047713]\n",
            "[3.4202321724709783, 314.68059701492535, 302.9826089013198, 0.18154742616600722, 3.761537809734781, -0.22891866576185982]\n",
            "[2.66909532483303, 10.332726168791742, 3.2086563157462056, 0.08010361108159711, 18.989185424445708, 0.0034569877442048825]\n",
            "[2.374005305039788, 6.344827586206897, 0.7089263978498401, 0.02833775419982316, 22.72654386873373, -0.10462028367002348]\n"
          ]
        }
      ]
    },
    {
      "cell_type": "markdown",
      "source": [
        "## Classificação"
      ],
      "metadata": {
        "id": "DKYU_B2E0jDY"
      }
    },
    {
      "cell_type": "markdown",
      "source": [
        "**Geração das redes**: geração de redes de 3 modelos distintos: ER, WS e BA com respectivos tamanho e grau médio iguais à rede de interesse."
      ],
      "metadata": {
        "id": "asl2ubVvVGMl"
      }
    },
    {
      "cell_type": "markdown",
      "source": [
        "**Classificação**: vetor de características da rede, comparado com o vetor de característica de redes sintéticas ER, WS, BA geradas com o mesmo número de vértices N e grau médio \\<k\\>.\n",
        "\n",
        "* K-vizinhos mais próximos (KNN)"
      ],
      "metadata": {
        "id": "9UvK47FBeWle"
      }
    },
    {
      "cell_type": "code",
      "source": [
        "for g in range(len(grafos)):\n",
        "\n",
        "  # Modelos de rede: N, <k> iguais à rede original\n",
        "  cl = ['ER','WS','BA'] # 0.0, 1.0, 2.0\n",
        "\n",
        "  ## Criação de redes sinéticas\n",
        "  X = [] # vetores característicos\n",
        "  y = [] # modelo da rede\n",
        "  n_nets = 30\n",
        "  N = nx.number_of_nodes(grafos[g]) #G\n",
        "\n",
        "  #ER networks\n",
        "  av_degree = vetores_caracteristicos[g][0] #k1\n",
        "  p = av_degree/(N-1)\n",
        "  for i in range(0, n_nets):\n",
        "      GER = nx.gnp_random_graph(N, p, seed=None, directed=False)\n",
        "      Gcc = sorted(nx.connected_components(GER), key=len, reverse=True)\n",
        "      GER = GER.subgraph(Gcc[0])\n",
        "      GER = nx.convert_node_labels_to_integers(GER, first_label=0)\n",
        "      k1, k2, variance, av_cl, l, r = measures(GER)\n",
        "      x = [k1, k2, variance, av_cl, l, r]\n",
        "      X.append(x)\n",
        "      y.append(0.0)\n",
        "\n",
        "  #WS networks\n",
        "  k = int(av_degree)\n",
        "  p = 0.1 #probability of rewiring\n",
        "  for i in range(0, n_nets):\n",
        "      GWS = nx.watts_strogatz_graph(N, k, p, seed=None)\n",
        "      Gcc = sorted(nx.connected_components(GWS), key=len, reverse=True)\n",
        "      GWS = GWS.subgraph(Gcc[0])\n",
        "      GWS = nx.convert_node_labels_to_integers(GWS, first_label=0)\n",
        "      k1, k2, variance, av_cl, l, r = measures(GWS)\n",
        "      x = [k1, k2, variance, av_cl, l, r]\n",
        "      X.append(x)\n",
        "      y.append(1.0)\n",
        "\n",
        "  # BA networks\n",
        "  m = int(av_degree/2)\n",
        "  for i in range(0, n_nets):\n",
        "      GBA = nx.barabasi_albert_graph(N, m)\n",
        "      Gcc = sorted(nx.connected_components(GBA), key=len, reverse=True)\n",
        "      GBA = GBA.subgraph(Gcc[0])\n",
        "      GBA = nx.convert_node_labels_to_integers(GBA, first_label=0)\n",
        "      k1,k2,variance,av_cl,l,r = measures(GBA)\n",
        "      x = [k1,k2,variance,av_cl,l,r]\n",
        "      X.append(x)\n",
        "      y.append(2.0)\n",
        "\n",
        "  X = np.array(X)\n",
        "  y = np.array(y)\n",
        "\n",
        "  # Classificação\n",
        "  scaler = StandardScaler().fit(X)\n",
        "  X = scaler.transform(X)\n",
        "\n",
        "  X_net = np.array(vetores_caracteristicos[g])\n",
        "  X_net = X_net.reshape(1,len(X_net))\n",
        "  X_net = scaler.transform(X_net)\n",
        "\n",
        "  k = 5\n",
        "  model = KNeighborsClassifier(n_neighbors=k, metric = 'euclidean')\n",
        "  model.fit(X, y) # predição no conjunto de teste\n",
        "\n",
        "  y_pred = model.predict(X_net)\n",
        "  print('Classe grafo', redes[g], ': ', cl[int(y_pred[0])])"
      ],
      "metadata": {
        "colab": {
          "base_uri": "https://localhost:8080/"
        },
        "id": "-NgjCy1k7XT_",
        "outputId": "03b2fd37-bbd4-4fc1-ee76-e6f8195ce514"
      },
      "execution_count": 16,
      "outputs": [
        {
          "output_type": "stream",
          "name": "stdout",
          "text": [
            "Classe grafo malaria_genes :  WS\n",
            "Classe grafo celegans_metabolic :  BA\n",
            "Classe grafo yeast_transcription :  ER\n",
            "Classe grafo lesmis :  BA\n",
            "Classe grafo facebook_friends :  ER\n",
            "Classe grafo jazz_collab :  ER\n",
            "Classe grafo route_views :  ER\n",
            "Classe grafo power :  ER\n",
            "Classe grafo internet_top_pop_kdl :  ER\n"
          ]
        }
      ]
    },
    {
      "cell_type": "markdown",
      "source": [
        "## Resultados"
      ],
      "metadata": {
        "id": "FkGMJwkcGZKq"
      }
    },
    {
      "cell_type": "markdown",
      "source": [
        "**Resultados Classificação de Redes**\n",
        "\n",
        "Redes biológicas:\n",
        "1.   'malaria_genes':  WS\n",
        "2.   'celegans_metabolic': BA\n",
        "3.   'yeast_transcription': ER\n",
        "\n",
        "Redes sociais:\n",
        "1.   'lesmis': BA\n",
        "2.   'facebook_friends': ER\n",
        "3.   'jazz_collab': ER\n",
        "\n",
        "Redes tecnológicas:\n",
        "1.   'route_views': ER\n",
        "2.   'power': ER\n",
        "3.   'internet_top_pop_kdl': ER\n",
        "\n",
        "\n"
      ],
      "metadata": {
        "id": "LssQzJF75c6r"
      }
    },
    {
      "cell_type": "code",
      "source": [
        "# Vetores característicos WS\n",
        "print(\"Medidas:\", vetores_caracteristicos[0], \"| Rede:\", redes[0])"
      ],
      "metadata": {
        "colab": {
          "base_uri": "https://localhost:8080/"
        },
        "id": "VvDL2dA0FC9X",
        "outputId": "ff8b9a6f-da27-41f4-9c8a-0496ab130aae"
      },
      "execution_count": 24,
      "outputs": [
        {
          "output_type": "stream",
          "name": "stdout",
          "text": [
            "Medidas: [18.319218241042346, 457.7785016286645, 122.18474466572587, 0.5701523452772743, 3.5190862447041793, 0.5991478526809376] | Rede: malaria_genes\n"
          ]
        }
      ]
    },
    {
      "cell_type": "code",
      "source": [
        "# Vetores característicos BA\n",
        "print(\"Medidas:\", vetores_caracteristicos[1], \"| Rede:\", redes[1])\n",
        "print(\"Medidas:\", vetores_caracteristicos[3], \"| Rede:\", redes[3])"
      ],
      "metadata": {
        "colab": {
          "base_uri": "https://localhost:8080/"
        },
        "id": "XgAcgmnyFcig",
        "outputId": "8456b927-ad3b-493d-9adf-462c0cac3a2e"
      },
      "execution_count": 23,
      "outputs": [
        {
          "output_type": "stream",
          "name": "stdout",
          "text": [
            "Medidas: [8.940397350993377, 358.49006622516555, 278.55936143151615, 0.646463092156505, 2.6637851882240327, -0.2258208879683295] | Rede: celegans_metabolic\n",
            "Medidas: [6.597402597402597, 79.53246753246754, 36.006746500252994, 0.5731367499320134, 2.6411483253588517, -0.16522513442237025] | Rede: lesmis\n"
          ]
        }
      ]
    },
    {
      "cell_type": "code",
      "source": [
        "# Vetores característicos ER\n",
        "print(\"Medidas:\", vetores_caracteristicos[2], \"| Rede:\", redes[2])\n",
        "print(\"Medidas:\", vetores_caracteristicos[4], \"| Rede:\", redes[4])\n",
        "print(\"Medidas:\", vetores_caracteristicos[5], \"| Rede:\", redes[5])\n",
        "print(\"Medidas:\", vetores_caracteristicos[6], \"| Rede:\", redes[6])\n",
        "print(\"Medidas:\", vetores_caracteristicos[7], \"| Rede:\", redes[7])\n",
        "print(\"Medidas:\", vetores_caracteristicos[8], \"| Rede:\", redes[8])"
      ],
      "metadata": {
        "colab": {
          "base_uri": "https://localhost:8080/"
        },
        "id": "RXGdlz_IF7nj",
        "outputId": "0b1666f0-2db5-47e5-a307-1ab5ec45ac3d"
      },
      "execution_count": 25,
      "outputs": [
        {
          "output_type": "stream",
          "name": "stdout",
          "text": [
            "Medidas: [3.2078313253012047, 43.286144578313255, 32.99596276672957, 0.048817590830936314, 5.200239873521234, -0.4083912916261682] | Rede: yeast_transcription\n",
            "Medidas: [11.878419452887538, 260.8632218844985, 119.76637318576141, 0.6052943472285397, 3.584216769219364, 0.07388134601973691] | Rede: facebook_friends\n",
            "Medidas: [27.696969696969695, 1070.2424242424242, 303.1202938475667, 0.6174507021536305, 2.2350407629595446, 0.020237399275047713] | Rede: jazz_collab\n",
            "Medidas: [3.4202321724709783, 314.68059701492535, 302.9826089013198, 0.18154742616600722, 3.761537809734781, -0.22891866576185982] | Rede: route_views\n",
            "Medidas: [2.66909532483303, 10.332726168791742, 3.2086563157462056, 0.08010361108159711, 18.989185424445708, 0.0034569877442048825] | Rede: power\n",
            "Medidas: [2.374005305039788, 6.344827586206897, 0.7089263978498401, 0.02833775419982316, 22.72654386873373, -0.10462028367002348] | Rede: internet_top_pop_kdl\n"
          ]
        }
      ]
    },
    {
      "cell_type": "markdown",
      "source": [
        "## Conclusão"
      ],
      "metadata": {
        "id": "Jt3HJV1eIK-E"
      }
    },
    {
      "cell_type": "markdown",
      "source": [
        "**Conclusão**: os resultados obtidos indicam que não haveria evidência experimental para aceitar a hipótese de que redes do mesmo tipo seguem o mesmo modelo de maneira universal. Ou seja, redes de uma mesma natureza - biológica, social ou tecnológica - poderíam vir a seguir modelos de rede distintos, como obsrevado para as redes biológicas, grupo dentro do qual cada rede foi classificada como um modelo diferente. A classificação usando KNN para as redes empregadas mostra que talvez a hipótese se sustente para redes tecnológicas."
      ],
      "metadata": {
        "id": "-CyQGXSFGb1M"
      }
    },
    {
      "cell_type": "markdown",
      "source": [
        "### Rascunho: Etapas separadas"
      ],
      "metadata": {
        "id": "iln5FlKE0d_Q"
      }
    },
    {
      "cell_type": "code",
      "source": [
        "g = 2 # grafo\n",
        "\n",
        "# Modelos de rede: N, <k> iguais à rede original\n",
        "cl = ['ER','WS','BA'] # 0.0, 1.0, 2.0\n",
        "\n",
        "## Criação de redes sinéticas\n",
        "X = [] # vetores característicos\n",
        "y = [] # modelo da rede\n",
        "n_nets = 30\n",
        "N = nx.number_of_nodes(grafos[g]) #G\n",
        "\n",
        "#ER networks\n",
        "av_degree = vetores_caracteristicos[g][0] #k1\n",
        "p = av_degree/(N-1)\n",
        "for i in range(0, n_nets):\n",
        "    GER = nx.gnp_random_graph(N, p, seed=None, directed=False)\n",
        "    Gcc = sorted(nx.connected_components(GER), key=len, reverse=True)\n",
        "    GER = GER.subgraph(Gcc[0])\n",
        "    GER = nx.convert_node_labels_to_integers(GER, first_label=0)\n",
        "    k1, k2, variance, av_cl, l, r = measures(GER)\n",
        "    x = [k1, k2, variance, av_cl, l, r]\n",
        "    X.append(x)\n",
        "    y.append(0.0)\n",
        "\n",
        "#WS networks\n",
        "k = int(av_degree)\n",
        "p = 0.1 #probability of rewiring\n",
        "for i in range(0, n_nets):\n",
        "    GWS = nx.watts_strogatz_graph(N, k, p, seed=None)\n",
        "    Gcc = sorted(nx.connected_components(GWS), key=len, reverse=True)\n",
        "    GWS = GWS.subgraph(Gcc[0])\n",
        "    GWS = nx.convert_node_labels_to_integers(GWS, first_label=0)\n",
        "    k1, k2, variance, av_cl, l, r = measures(GWS)\n",
        "    x = [k1, k2, variance, av_cl, l, r]\n",
        "    X.append(x)\n",
        "    y.append(1.0)\n",
        "\n",
        "# BA networks\n",
        "m = int(av_degree/2)\n",
        "for i in range(0, n_nets):\n",
        "    GBA = nx.barabasi_albert_graph(N, m)\n",
        "    Gcc = sorted(nx.connected_components(GBA), key=len, reverse=True)\n",
        "    GBA = GBA.subgraph(Gcc[0])\n",
        "    GBA = nx.convert_node_labels_to_integers(GBA, first_label=0)\n",
        "    k1,k2,variance,av_cl,l,r = measures(GBA)\n",
        "    x = [k1,k2,variance,av_cl,l,r]\n",
        "    X.append(x)\n",
        "    y.append(2.0)\n",
        "\n",
        "X = np.array(X)\n",
        "y = np.array(y)"
      ],
      "metadata": {
        "id": "I4sBhc8qbgei"
      },
      "execution_count": 213,
      "outputs": []
    },
    {
      "cell_type": "code",
      "source": [
        "from sklearn.neighbors import KNeighborsClassifier\n",
        "from sklearn.preprocessing import StandardScaler\n",
        "\n",
        "scaler = StandardScaler().fit(X)\n",
        "X = scaler.transform(X)\n",
        "\n",
        "X_net = np.array(vetores_caracteristicos[g])\n",
        "X_net = X_net.reshape(1,len(X_net))\n",
        "X_net = scaler.transform(X_net)\n",
        "\n",
        "k = 5\n",
        "model = KNeighborsClassifier(n_neighbors=k, metric = 'euclidean')\n",
        "model.fit(X, y) # predição no conjunto de teste"
      ],
      "metadata": {
        "colab": {
          "base_uri": "https://localhost:8080/",
          "height": 74
        },
        "id": "vM4FyWFQy0MT",
        "outputId": "509f8f7f-1016-4a2a-c39f-756320547060"
      },
      "execution_count": 214,
      "outputs": [
        {
          "output_type": "execute_result",
          "data": {
            "text/plain": [
              "KNeighborsClassifier(metric='euclidean')"
            ],
            "text/html": [
              "<style>#sk-container-id-6 {color: black;background-color: white;}#sk-container-id-6 pre{padding: 0;}#sk-container-id-6 div.sk-toggleable {background-color: white;}#sk-container-id-6 label.sk-toggleable__label {cursor: pointer;display: block;width: 100%;margin-bottom: 0;padding: 0.3em;box-sizing: border-box;text-align: center;}#sk-container-id-6 label.sk-toggleable__label-arrow:before {content: \"▸\";float: left;margin-right: 0.25em;color: #696969;}#sk-container-id-6 label.sk-toggleable__label-arrow:hover:before {color: black;}#sk-container-id-6 div.sk-estimator:hover label.sk-toggleable__label-arrow:before {color: black;}#sk-container-id-6 div.sk-toggleable__content {max-height: 0;max-width: 0;overflow: hidden;text-align: left;background-color: #f0f8ff;}#sk-container-id-6 div.sk-toggleable__content pre {margin: 0.2em;color: black;border-radius: 0.25em;background-color: #f0f8ff;}#sk-container-id-6 input.sk-toggleable__control:checked~div.sk-toggleable__content {max-height: 200px;max-width: 100%;overflow: auto;}#sk-container-id-6 input.sk-toggleable__control:checked~label.sk-toggleable__label-arrow:before {content: \"▾\";}#sk-container-id-6 div.sk-estimator input.sk-toggleable__control:checked~label.sk-toggleable__label {background-color: #d4ebff;}#sk-container-id-6 div.sk-label input.sk-toggleable__control:checked~label.sk-toggleable__label {background-color: #d4ebff;}#sk-container-id-6 input.sk-hidden--visually {border: 0;clip: rect(1px 1px 1px 1px);clip: rect(1px, 1px, 1px, 1px);height: 1px;margin: -1px;overflow: hidden;padding: 0;position: absolute;width: 1px;}#sk-container-id-6 div.sk-estimator {font-family: monospace;background-color: #f0f8ff;border: 1px dotted black;border-radius: 0.25em;box-sizing: border-box;margin-bottom: 0.5em;}#sk-container-id-6 div.sk-estimator:hover {background-color: #d4ebff;}#sk-container-id-6 div.sk-parallel-item::after {content: \"\";width: 100%;border-bottom: 1px solid gray;flex-grow: 1;}#sk-container-id-6 div.sk-label:hover label.sk-toggleable__label {background-color: #d4ebff;}#sk-container-id-6 div.sk-serial::before {content: \"\";position: absolute;border-left: 1px solid gray;box-sizing: border-box;top: 0;bottom: 0;left: 50%;z-index: 0;}#sk-container-id-6 div.sk-serial {display: flex;flex-direction: column;align-items: center;background-color: white;padding-right: 0.2em;padding-left: 0.2em;position: relative;}#sk-container-id-6 div.sk-item {position: relative;z-index: 1;}#sk-container-id-6 div.sk-parallel {display: flex;align-items: stretch;justify-content: center;background-color: white;position: relative;}#sk-container-id-6 div.sk-item::before, #sk-container-id-6 div.sk-parallel-item::before {content: \"\";position: absolute;border-left: 1px solid gray;box-sizing: border-box;top: 0;bottom: 0;left: 50%;z-index: -1;}#sk-container-id-6 div.sk-parallel-item {display: flex;flex-direction: column;z-index: 1;position: relative;background-color: white;}#sk-container-id-6 div.sk-parallel-item:first-child::after {align-self: flex-end;width: 50%;}#sk-container-id-6 div.sk-parallel-item:last-child::after {align-self: flex-start;width: 50%;}#sk-container-id-6 div.sk-parallel-item:only-child::after {width: 0;}#sk-container-id-6 div.sk-dashed-wrapped {border: 1px dashed gray;margin: 0 0.4em 0.5em 0.4em;box-sizing: border-box;padding-bottom: 0.4em;background-color: white;}#sk-container-id-6 div.sk-label label {font-family: monospace;font-weight: bold;display: inline-block;line-height: 1.2em;}#sk-container-id-6 div.sk-label-container {text-align: center;}#sk-container-id-6 div.sk-container {/* jupyter's `normalize.less` sets `[hidden] { display: none; }` but bootstrap.min.css set `[hidden] { display: none !important; }` so we also need the `!important` here to be able to override the default hidden behavior on the sphinx rendered scikit-learn.org. See: https://github.com/scikit-learn/scikit-learn/issues/21755 */display: inline-block !important;position: relative;}#sk-container-id-6 div.sk-text-repr-fallback {display: none;}</style><div id=\"sk-container-id-6\" class=\"sk-top-container\"><div class=\"sk-text-repr-fallback\"><pre>KNeighborsClassifier(metric=&#x27;euclidean&#x27;)</pre><b>In a Jupyter environment, please rerun this cell to show the HTML representation or trust the notebook. <br />On GitHub, the HTML representation is unable to render, please try loading this page with nbviewer.org.</b></div><div class=\"sk-container\" hidden><div class=\"sk-item\"><div class=\"sk-estimator sk-toggleable\"><input class=\"sk-toggleable__control sk-hidden--visually\" id=\"sk-estimator-id-6\" type=\"checkbox\" checked><label for=\"sk-estimator-id-6\" class=\"sk-toggleable__label sk-toggleable__label-arrow\">KNeighborsClassifier</label><div class=\"sk-toggleable__content\"><pre>KNeighborsClassifier(metric=&#x27;euclidean&#x27;)</pre></div></div></div></div></div>"
            ]
          },
          "metadata": {},
          "execution_count": 214
        }
      ]
    },
    {
      "cell_type": "code",
      "source": [
        "y_pred = model.predict(X_net)\n",
        "print('Classe grafo', redes[g], ': ', cl[int(y_pred)])"
      ],
      "metadata": {
        "colab": {
          "base_uri": "https://localhost:8080/"
        },
        "id": "00fXLjRtzap8",
        "outputId": "8b3f9e76-195f-4451-aaa5-b542365076a1"
      },
      "execution_count": 215,
      "outputs": [
        {
          "output_type": "stream",
          "name": "stdout",
          "text": [
            "Classe grafo yeast_transcription :  ER\n"
          ]
        }
      ]
    }
  ]
}